{
  "nbformat": 4,
  "nbformat_minor": 0,
  "metadata": {
    "colab": {
      "provenance": [],
      "authorship_tag": "ABX9TyNR6RYgqpMUwA4YXB3IpIBH",
      "include_colab_link": true
    },
    "kernelspec": {
      "name": "python3",
      "display_name": "Python 3"
    },
    "language_info": {
      "name": "python"
    }
  },
  "cells": [
    {
      "cell_type": "markdown",
      "metadata": {
        "id": "view-in-github",
        "colab_type": "text"
      },
      "source": [
        "<a href=\"https://colab.research.google.com/github/indobims/Praktikum_Algoritma_Polines_2025-Arya-Bima_2/blob/main/Praktikum3.ipynb\" target=\"_parent\"><img src=\"https://colab.research.google.com/assets/colab-badge.svg\" alt=\"Open In Colab\"/></a>"
      ]
    },
    {
      "cell_type": "markdown",
      "source": [
        "**Praktikum** **01** - **If** **sederhana**\n",
        "\n",
        "Pada praktikum ini, mahasiswa akan mencoba percabangan paling dasar. Program hanya akan\n",
        "menampilkan pesan jika kondisi terpenuhi."
      ],
      "metadata": {
        "id": "6zvqIByNizBx"
      }
    },
    {
      "cell_type": "code",
      "source": [
        "nilai = int(input(\"Masukkan nilai ujian: \"))\n",
        "if nilai >= 60:\n",
        "    print(\"Anda LULUS\")"
      ],
      "metadata": {
        "colab": {
          "base_uri": "https://localhost:8080/"
        },
        "id": "RBag7bAsi7Fp",
        "outputId": "24da5e8e-a114-4568-e52e-351a21e7517a"
      },
      "execution_count": 4,
      "outputs": [
        {
          "output_type": "stream",
          "name": "stdout",
          "text": [
            "Masukkan nilai ujian: 90\n",
            "Anda LULUS\n"
          ]
        }
      ]
    },
    {
      "cell_type": "markdown",
      "source": [
        "**Praktikum** **02** **–** If-*Else*\n",
        "\n",
        "Pada praktikum ini, mahasiswa akan belajar menambahkan alternatif keluaran bila kondisi\n",
        "tidak terpenuhi."
      ],
      "metadata": {
        "id": "9g9VZz_Jjfjn"
      }
    },
    {
      "cell_type": "code",
      "source": [
        "nilai = int(input(\"Masukkan nilai ujian: \"))\n",
        "if nilai >= 60:\n",
        "    print(\"Anda LULUS\")\n",
        "else :\n",
        "    print(\"Anda TIDAK LULUS\")"
      ],
      "metadata": {
        "colab": {
          "base_uri": "https://localhost:8080/"
        },
        "id": "CczNeZu2l6OW",
        "outputId": "4fcfdcf6-114f-42ec-9ab6-bf02342dd27c"
      },
      "execution_count": 8,
      "outputs": [
        {
          "output_type": "stream",
          "name": "stdout",
          "text": [
            "Masukkan nilai ujian: 70\n",
            "Anda LULUS\n"
          ]
        }
      ]
    },
    {
      "cell_type": "markdown",
      "source": [
        "**Praktikum** **03** – **If**-**Elif**-**Else**\n",
        "\n",
        "Pada praktikum ini, mahasiswa akan membuat percabangan bertingkat untuk menentukan\n",
        "grade nilai."
      ],
      "metadata": {
        "id": "apIz9SrRmp_L"
      }
    },
    {
      "cell_type": "code",
      "source": [
        "nilai = int(input(\"Masukkan nilai akhir: \"))\n",
        "\n",
        "if nilai >= 85:\n",
        "    grade = \"A\"\n",
        "elif nilai >= 70:\n",
        "    grade = \"B\"\n",
        "elif nilai >= 55:\n",
        "    grade = \"C\"\n",
        "elif nilai >= 40:\n",
        "    grade = \"D\"\n",
        "else:\n",
        "    grade = \"E\"\n",
        "\n",
        "print(f\"Nilai Anda {nilai}, maka grade Anda = {grade}\")"
      ],
      "metadata": {
        "colab": {
          "base_uri": "https://localhost:8080/"
        },
        "id": "NCBGcszhmt8n",
        "outputId": "d3ce959f-6e4f-4208-9e3e-2c7d28294959"
      },
      "execution_count": 9,
      "outputs": [
        {
          "output_type": "stream",
          "name": "stdout",
          "text": [
            "Masukkan nilai akhir: 90\n",
            "Nilai Anda 90, maka grade Anda = A\n"
          ]
        }
      ]
    },
    {
      "cell_type": "markdown",
      "source": [
        "**Praktikum** **04** – **Nested** **If**\n",
        "\n",
        "Pada praktikum ini, mahasiswa akan menggunakan percabangan bersarang. Contoh kasusnya\n",
        "adalah kelayakan beasiswa."
      ],
      "metadata": {
        "id": "ApJ3L-fJzoU-"
      }
    },
    {
      "cell_type": "code",
      "source": [
        "ipk = float(input(\"Masukkan IPK: \"))\n",
        "sks = int(input(\"Masukkan jumlah SKS: \"))\n",
        "\n",
        "if ipk >= 3.0:\n",
        "    if sks >= 18:\n",
        "        print(\"Anda LAYAK mendapat beasiswa\")\n",
        "    else:\n",
        "        print(\"IPK memenuhi, tapi SKS kurang\")\n",
        "else:\n",
        "    print(\"Anda TIDAK layak mendapat beasiswa\")"
      ],
      "metadata": {
        "colab": {
          "base_uri": "https://localhost:8080/"
        },
        "id": "HDgn1qYNzt9J",
        "outputId": "4ed76486-0710-40e8-ef8b-15788f2633a0"
      },
      "execution_count": 11,
      "outputs": [
        {
          "output_type": "stream",
          "name": "stdout",
          "text": [
            "Masukkan IPK: 3.0\n",
            "Masukkan jumlah SKS: 18\n",
            "Anda LAYAK mendapat beasiswa\n"
          ]
        }
      ]
    },
    {
      "cell_type": "markdown",
      "source": [
        "**Praktikum** **05** – **Match**-**Case**\n",
        "\n",
        "Pada praktikum ini, mahasiswa akan mencoba percabangan match-case untuk memilih menu."
      ],
      "metadata": {
        "id": "yACLO9GRz-Kc"
      }
    },
    {
      "cell_type": "code",
      "source": [
        "menu = int(input(\"Pilih menu (1-3): \"))\n",
        "\n",
        "match menu:\n",
        "    case 1:\n",
        "        print(\"Anda memilih Nasi Goreng\")\n",
        "    case 2:\n",
        "        print(\"Anda memilih Mie Ayam\")\n",
        "    case 3:\n",
        "        print(\"Anda memilih Soto Ayam\")\n",
        "    case _:\n",
        "        print(\"Menu tidak tersedia\")"
      ],
      "metadata": {
        "colab": {
          "base_uri": "https://localhost:8080/"
        },
        "id": "Md_K-0A60FwC",
        "outputId": "15c3fd8a-67bb-4d6a-b7fd-47d0cf890e5c"
      },
      "execution_count": 14,
      "outputs": [
        {
          "output_type": "stream",
          "name": "stdout",
          "text": [
            "Pilih menu (1-3): 2\n",
            "Anda memilih Mie Ayam\n"
          ]
        }
      ]
    },
    {
      "cell_type": "markdown",
      "source": [
        "**Praktikum** **06** – **Studi** **Kasus**: **Program** **Kasir**\n",
        "\n",
        "Pada praktikum ini, mahasiswa akan menggabungkan percabangan ke dalam kasus nyata:\n",
        "perhitungan belanja dengan diskon."
      ],
      "metadata": {
        "id": "8jYU464x0Y_N"
      }
    },
    {
      "cell_type": "code",
      "source": [
        "barang = input(\"Masukkan nama barang: \")\n",
        "harga = float(input(\"Masukkan harga barang: \"))\n",
        "jumlah = int(input(\"Masukkan jumlah barang: \"))\n",
        "\n",
        "total = harga * jumlah\n",
        "\n",
        "if total >= 500000:\n",
        "    diskon = 0.2\n",
        "elif total >= 250000:\n",
        "    diskon = 0.1\n",
        "else:\n",
        "    diskon = 0\n",
        "\n",
        "bayar = total - (total * diskon)\n",
        "\n",
        "print(\"\\n===== Struk Belanja =====\")\n",
        "print(f\"Barang : {barang}\")\n",
        "print(f\"Jumlah : {jumlah}\")\n",
        "print(f\"Total : Rp {total}\")\n",
        "print(f\"Diskon : {diskon*100}%\")\n",
        "print(f\"Bayar : Rp {bayar}\")"
      ],
      "metadata": {
        "colab": {
          "base_uri": "https://localhost:8080/"
        },
        "id": "ymMGoit20gWi",
        "outputId": "347e3440-3fcd-4295-b303-0d3cc88cc90d"
      },
      "execution_count": 15,
      "outputs": [
        {
          "output_type": "stream",
          "name": "stdout",
          "text": [
            "Masukkan nama barang: Velg\n",
            "Masukkan harga barang: 350000\n",
            "Masukkan jumlah barang: 1\n",
            "\n",
            "===== Struk Belanja =====\n",
            "Barang : Velg\n",
            "Jumlah : 1\n",
            "Total : Rp 350000.0\n",
            "Diskon : 10.0%\n",
            "Bayar : Rp 315000.0\n"
          ]
        }
      ]
    }
  ]
}