{
  "nbformat": 4,
  "nbformat_minor": 0,
  "metadata": {
    "colab": {
      "provenance": [],
      "authorship_tag": "ABX9TyNniwnD0lpg1MttE3qPOq3i",
      "include_colab_link": true
    },
    "kernelspec": {
      "name": "python3",
      "display_name": "Python 3"
    },
    "language_info": {
      "name": "python"
    }
  },
  "cells": [
    {
      "cell_type": "markdown",
      "metadata": {
        "id": "view-in-github",
        "colab_type": "text"
      },
      "source": [
        "<a href=\"https://colab.research.google.com/github/indobims/Praktikum_Algoritma_Polines_2025-Arya-Bima_2/blob/main/Jobsheet2.ipynb\" target=\"_parent\"><img src=\"https://colab.research.google.com/assets/colab-badge.svg\" alt=\"Open In Colab\"/></a>"
      ]
    },
    {
      "cell_type": "markdown",
      "source": [
        "**3**. **Identitas** **Mahasiswa**\n",
        "\n",
        "Buat program Python yang menyimpan data berikut dalam variabel: nama (str), umur (int), tinggi (float), status aktif (bool). Tampilkan ke layar dengan format rapi menggunakan f-string."
      ],
      "metadata": {
        "id": "cUgxNTRIJZQg"
      }
    },
    {
      "cell_type": "code",
      "source": [
        "nama = \"Arya Bima\"\n",
        "umur = 18\n",
        "tinggi = 174.5\n",
        "status_aktif = True\n",
        "\n",
        "# - Menampilkan Data menggunakan f-string\n",
        "print(\"-- IDENTITAS MAHASISWA --\")\n",
        "print(f\"Nama         : {nama}\")\n",
        "print(f\"Umur         : {umur} tahun\")\n",
        "print(f\"Tinggi       : {tinggi} cm\")\n",
        "print(f\"Status Aktif : {status_aktif}\")\n",
        "print(\"-------------------------\")"
      ],
      "metadata": {
        "colab": {
          "base_uri": "https://localhost:8080/"
        },
        "id": "CxOj28RJJngZ",
        "outputId": "5c3b8dc0-d020-4b17-8c61-21486605140a"
      },
      "execution_count": 2,
      "outputs": [
        {
          "output_type": "stream",
          "name": "stdout",
          "text": [
            "-- IDENTITAS MAHASISWA --\n",
            "Nama         : Arya Bima\n",
            "Umur         : 18 tahun\n",
            "Tinggi       : 174.5 cm\n",
            "Status Aktif : True\n",
            "-------------------------\n"
          ]
        }
      ]
    },
    {
      "cell_type": "markdown",
      "source": [
        "**4**. **Operasi** **Aritmatika**\n",
        "\n",
        "Buat program Python yang menerima dua bilangan bulat dari pengguna, lalu menampilkan hasil penjumlahan, pengurangan, perkalian, pembagian, sisa bagi, dan perpangkatannya."
      ],
      "metadata": {
        "id": "vExH9sJiKyy0"
      }
    },
    {
      "cell_type": "code",
      "source": [
        "print(\"Masukkan dua bilangan bulat.\")\n",
        "bil1 = int(input(\"Bilangan Pertama : \"))\n",
        "bil2 = int(input(\"Bilangan Kedua   : \"))\n",
        "\n",
        "# - Proses Operasi Aritmatika dan menampilkan outputnya\n",
        "print(\"\\n-- HASIL OPERASI ARITMATIKA --\")\n",
        "print(f\"Penjumlahan   : {bil1} + {bil2} = {bil1 + bil2}\")\n",
        "print(f\"Pengurangan   : {bil1} - {bil2} = {bil1 - bil2}\")\n",
        "print(f\"Perkalian     : {bil1} * {bil2} = {bil1 * bil2}\")\n",
        "print(f\"Pembagian     : {bil1} / {bil2} = {bil1 / bil2}\")\n",
        "print(f\"Sisa Bagi     : {bil1} % {bil2} = {bil1 % bil2}\")\n",
        "print(f\"Perpangkatan  : {bil1} ** {bil2} = {bil1 ** bil2}\")\n",
        "print(\"-------------------------------\")"
      ],
      "metadata": {
        "colab": {
          "base_uri": "https://localhost:8080/"
        },
        "id": "sw8t6s3TK6oR",
        "outputId": "38a67b9b-9bb9-4518-b9d5-cbe06f26c2b8"
      },
      "execution_count": 4,
      "outputs": [
        {
          "output_type": "stream",
          "name": "stdout",
          "text": [
            "Masukkan dua bilangan bulat.\n",
            "Bilangan Pertama : 20\n",
            "Bilangan Kedua   : 30\n",
            "\n",
            "-- HASIL OPERASI ARITMATIKA --\n",
            "Penjumlahan   : 20 + 30 = 50\n",
            "Pengurangan   : 20 - 30 = -10\n",
            "Perkalian     : 20 * 30 = 600\n",
            "Pembagian     : 20 / 30 = 0.6666666666666666\n",
            "Sisa Bagi     : 20 % 30 = 20\n",
            "Perpangkatan  : 20 ** 30 = 1073741824000000000000000000000000000000\n",
            "-------------------------------\n"
          ]
        }
      ]
    },
    {
      "cell_type": "markdown",
      "source": [
        "**5**. **Konversi** **Nilai**\n",
        "\n",
        "Buat program Python yang membaca input berupa angka desimal (float), kemudian:\n",
        "•\tMenampilkan bilangan tersebut dalam bentuk integer (int()).\n",
        "•\tMenampilkan bilangan dalam bentuk string (str()).\n",
        "•\tMenampilkan hasil pembulatan 2 digit di belakang koma (round()).\n"
      ],
      "metadata": {
        "id": "BnBeeUh8MZhL"
      }
    },
    {
      "cell_type": "code",
      "source": [
        "# 1. Input angka desimal dari User\n",
        "angka_desimal = float(input(\"Masukkan sebuah angka desimal (Contoh : 98.765): \"))\n",
        "\n",
        "# 2. Melakukan konversi dan pembulatan\n",
        "konversi_integer = int(angka_desimal)\n",
        "konversi_string = str(angka_desimal)\n",
        "hasil_pembulatan = round(angka_desimal, 2)\n",
        "\n",
        "# 3. Output\n",
        "print(\"\\n-- HASIL KONVERSI NILAI --\")\n",
        "print(f\"Nilai Asli (float) : {angka_desimal}\")\n",
        "print(f\"Bentuk Integer : {konversi_integer}\")\n",
        "print(f\"Bentuk String : '{konversi_string}'\")\n",
        "print(f\"Dibulatkan 2 digit : {hasil_pembulatan}\")\n",
        "print(\"----------------------------\")"
      ],
      "metadata": {
        "colab": {
          "base_uri": "https://localhost:8080/"
        },
        "id": "XtnPkjPUMh6u",
        "outputId": "0aa16768-b2b2-41f2-d75c-fd7f70323678"
      },
      "execution_count": 10,
      "outputs": [
        {
          "output_type": "stream",
          "name": "stdout",
          "text": [
            "Masukkan sebuah angka desimal (Contoh : 98.765): 91.233\n",
            "\n",
            "-- HASIL KONVERSI NILAI --\n",
            "Nilai Asli (float) : 91.233\n",
            "Bentuk Integer : 91\n",
            "Bentuk String : '91.233'\n",
            "Dibulatkan 2 digit : 91.23\n",
            "----------------------------\n"
          ]
        }
      ]
    },
    {
      "cell_type": "markdown",
      "source": [
        "**6**. **Operator** **Relasional**\n",
        "\n",
        "Buat program Python yang membaca dua input bilangan, lalu menampilkan hasil perbandingan menggunakan operator: ==, !=, <, >, <=, >=."
      ],
      "metadata": {
        "id": "52Jooo53Pstt"
      }
    },
    {
      "cell_type": "code",
      "source": [
        "# 1. Menerima 2 input dari User\n",
        "print(\"masukkan dua bilangan untuk dibandingkan\")\n",
        "angka1 = float(input(\"Angka Pertama : \"))\n",
        "angka2 = float(input(\"Angka Kedua : \"))\n",
        "\n",
        "# 2. Melakukan Perbandingan dan menampilkan outputnya\n",
        "print(\"\\n-- HASIL PERBANDINGAN --\")\n",
        "print(f\"{angka1} == {angka2} : {angka1 == angka2}\")\n",
        "print(f\"{angka1} != {angka2} : {angka1 != angka2}\")\n",
        "print(f\"{angka1} <  {angka2} : {angka1 < angka2}\")\n",
        "print(f\"{angka1} >  {angka2} : {angka1 > angka2}\")\n",
        "print(f\"{angka1} <= {angka2} : {angka1 <= angka2}\")\n",
        "print(f\"{angka1} >= {angka2} : {angka1 >= angka2}\")\n",
        "print(\"--------------------------\")"
      ],
      "metadata": {
        "colab": {
          "base_uri": "https://localhost:8080/"
        },
        "id": "DU0koVSlQD7h",
        "outputId": "cbaef7b0-31f9-4981-bdb6-63a8961cf790"
      },
      "execution_count": 13,
      "outputs": [
        {
          "output_type": "stream",
          "name": "stdout",
          "text": [
            "masukkan dua bilangan untuk dibandingkan\n",
            "Angka Pertama : 25\n",
            "Angka Kedua : 50\n",
            "\n",
            "-- HASIL PERBANDINGAN --\n",
            "25.0 == 50.0 : False\n",
            "25.0 != 50.0 : True\n",
            "25.0 <  50.0 : True\n",
            "25.0 >  50.0 : False\n",
            "25.0 <= 50.0 : True\n",
            "25.0 >= 50.0 : False\n",
            "--------------------------\n"
          ]
        }
      ]
    }
  ]
}