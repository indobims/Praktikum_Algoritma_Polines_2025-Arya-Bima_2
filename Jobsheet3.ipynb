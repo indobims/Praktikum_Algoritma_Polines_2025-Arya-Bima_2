{
  "nbformat": 4,
  "nbformat_minor": 0,
  "metadata": {
    "colab": {
      "provenance": [],
      "authorship_tag": "ABX9TyNtBbWLnntjG4pTb1NhHH3a",
      "include_colab_link": true
    },
    "kernelspec": {
      "name": "python3",
      "display_name": "Python 3"
    },
    "language_info": {
      "name": "python"
    }
  },
  "cells": [
    {
      "cell_type": "markdown",
      "metadata": {
        "id": "view-in-github",
        "colab_type": "text"
      },
      "source": [
        "<a href=\"https://colab.research.google.com/github/indobims/Praktikum_Algoritma_Polines_2025-Arya-Bima_2/blob/main/Jobsheet3.ipynb\" target=\"_parent\"><img src=\"https://colab.research.google.com/assets/colab-badge.svg\" alt=\"Open In Colab\"/></a>"
      ]
    },
    {
      "cell_type": "markdown",
      "source": [
        "**F**. **Penugasan**"
      ],
      "metadata": {
        "id": "a6NfbcpHMjbx"
      }
    },
    {
      "cell_type": "markdown",
      "source": [
        "**3**. **Cek** **Bilangan** **Positif**/**Negatif**/**Nol**\n",
        "\n",
        "Buat program Python yang membaca sebuah bilangan bulat. Program harus menampilkan\n",
        "apakah bilangan tersebut positif, negatif, atau nol. Gunakan struktur if-elif-else. 4. Menentukan Kategori Usia"
      ],
      "metadata": {
        "id": "Ja8R58XKMxVz"
      }
    },
    {
      "cell_type": "code",
      "source": [
        "bilangan = int(input(\"Masukkan sebuah bilangan bulat: \"))\n",
        "\n",
        "if bilangan > 0:\n",
        "    print(f\"Bilangan {bilangan} adalah POSITIF.\")\n",
        "elif bilangan < 0:\n",
        "    print(f\"Bilangan {bilangan} adalah NEGATIF.\")\n",
        "else:\n",
        "    print(\"Bilangan tersebut adalah NOL.\")"
      ],
      "metadata": {
        "colab": {
          "base_uri": "https://localhost:8080/"
        },
        "id": "nujOXT6fM1Zf",
        "outputId": "487d376c-cc4e-403e-a1cf-b0fdf805f15f"
      },
      "execution_count": 5,
      "outputs": [
        {
          "output_type": "stream",
          "name": "stdout",
          "text": [
            "Masukkan sebuah bilangan bulat: 30\n",
            "Bilangan 30 adalah POSITIF.\n"
          ]
        }
      ]
    },
    {
      "cell_type": "markdown",
      "source": [
        "**4**. **Menentukan** **Kategori** **Usia**\n",
        "\n",
        "Buat program Python yang membaca umur seseorang, lalu menampilkan kategorinya:\n",
        "\n",
        "• Balita (< 5)\n",
        "\n",
        "• Anak-anak (5–11)\n",
        "\n",
        "• Remaja (12–17)\n",
        "\n",
        "• Dewasa (18–59)\n",
        "\n",
        "• Lansia (≥ 60)\n",
        "\n",
        "Gunakan struktur if-elif-else.\n"
      ],
      "metadata": {
        "id": "N_UrewRBNSWg"
      }
    },
    {
      "cell_type": "code",
      "source": [
        "umur = int(input(\"Masukkan umur Anda: \"))\n",
        "\n",
        "if umur < 5:\n",
        "    kategori = \"Balita\"\n",
        "elif umur <= 11:\n",
        "    kategori = \"Anak-anak\"\n",
        "elif umur <= 17:\n",
        "    kategori = \"Remaja\"\n",
        "elif umur <= 59:\n",
        "    kategori = \"Dewasa\"\n",
        "else:\n",
        "    kategori = \"Lansia\"\n",
        "\n",
        "print(f\"Dengan umur {umur} tahun, Anda termasuk dalam kategori: {kategori}\")"
      ],
      "metadata": {
        "colab": {
          "base_uri": "https://localhost:8080/"
        },
        "id": "29T7vSPGNsQe",
        "outputId": "5164bf93-bfb1-4b68-c492-d3e76998685d"
      },
      "execution_count": 7,
      "outputs": [
        {
          "output_type": "stream",
          "name": "stdout",
          "text": [
            "Masukkan umur Anda: 18\n",
            "Dengan umur 18 tahun, Anda termasuk dalam kategori: Dewasa\n"
          ]
        }
      ]
    },
    {
      "cell_type": "markdown",
      "source": [
        "**5**. **Hitung** **Tarif** **Parkir**\n",
        "\n",
        "Buat program Python untuk menghitung tarif parkir kendaraan dengan aturan:\n",
        "\n",
        "• 2 jam pertama = Rp 5.000\n",
        "\n",
        "• Jam berikutnya = Rp 2.000 per jam\n",
        "\n",
        "• Tarif maksimal = Rp 20.000\n",
        "\n",
        "Gunakan struktur percabangan if-elif-else."
      ],
      "metadata": {
        "id": "OiR1ValNN1Vq"
      }
    },
    {
      "cell_type": "code",
      "source": [
        "durasi_jam = int(input(\"Masukkan durasi parkir (dalam jam): \"))\n",
        "\n",
        "if durasi_jam <= 2:\n",
        "    tarif = 5000\n",
        "else:\n",
        "    # Tarif 2 jam pertama + tarif jam berikutnya\n",
        "    tarif = 5000 + (durasi_jam - 2) * 2000\n",
        "\n",
        "# Menerapkan tarif maksimal\n",
        "if tarif > 20000:\n",
        "    tarif = 20000\n",
        "\n",
        "print(f\"Durasi parkir: {durasi_jam} jam\")\n",
        "print(f\"Total tarif parkir: Rp {tarif}\")"
      ],
      "metadata": {
        "colab": {
          "base_uri": "https://localhost:8080/"
        },
        "id": "8qFLZm7iOMnL",
        "outputId": "bd3a9f83-4ed2-4f5b-ab42-8c3ffb4fcd65"
      },
      "execution_count": 9,
      "outputs": [
        {
          "output_type": "stream",
          "name": "stdout",
          "text": [
            "Masukkan durasi parkir (dalam jam): 2\n",
            "Durasi parkir: 2 jam\n",
            "Total tarif parkir: Rp 5000\n"
          ]
        }
      ]
    },
    {
      "cell_type": "markdown",
      "source": [
        "**6**. **Cek** **Login** **Sederhana**\n",
        "\n",
        "Buat program Python untuk mengecek login dengan username dan password.\n",
        "\n",
        "• Jika username = \"admin\" dan password = \"1234\", tampilkan \"Login berhasil\".\n",
        "\n",
        "• Jika salah, tampilkan \"Login gagal\".\n",
        "\n",
        "Gunakan percabangan if-else dengan operator logika."
      ],
      "metadata": {
        "id": "UywGhYu9OaV1"
      }
    },
    {
      "cell_type": "code",
      "source": [
        "username = input(\"Masukkan username: \")\n",
        "password = input(\"Masukkan password: \")\n",
        "\n",
        "if username == \"Bwims\" and password == \"1234\":\n",
        "    print(\"Login berhasil. Selamat datang!\")\n",
        "else:\n",
        "    print(\"Login gagal. Username atau password salah.\")"
      ],
      "metadata": {
        "colab": {
          "base_uri": "https://localhost:8080/"
        },
        "id": "eTe27-boOps0",
        "outputId": "302fbd22-1ec6-4bc2-bea2-6ed205ac7e19"
      },
      "execution_count": 12,
      "outputs": [
        {
          "output_type": "stream",
          "name": "stdout",
          "text": [
            "Masukkan username: Bwims\n",
            "Masukkan password: 1234\n",
            "Login berhasil. Selamat datang!\n"
          ]
        }
      ]
    },
    {
      "cell_type": "markdown",
      "source": [
        "**7**. **One**-**Liner** **If** (**Cek** **Genap**/**Ganjil**)\n",
        "\n",
        "Buat program Python untuk menentukan apakah sebuah bilangan genap atau ganjil,\n",
        "menggunakan **one**-**liner** **if**."
      ],
      "metadata": {
        "id": "qIu4zjakO2wz"
      }
    },
    {
      "cell_type": "code",
      "source": [
        "angka = int(input(\"Masukkan sebuah bilangan: \"))\n",
        "\n",
        "hasil = \"GENAP\" if angka % 2 == 0 else \"GANJIL\"\n",
        "\n",
        "print(f\"Bilangan {angka} adalah {hasil}.\")"
      ],
      "metadata": {
        "colab": {
          "base_uri": "https://localhost:8080/"
        },
        "id": "Yj0MYSspPFEZ",
        "outputId": "111e4743-ac36-4b9c-c1be-101ff9719564"
      },
      "execution_count": 14,
      "outputs": [
        {
          "output_type": "stream",
          "name": "stdout",
          "text": [
            "Masukkan sebuah bilangan: 1\n",
            "Bilangan 1 adalah GANJIL.\n"
          ]
        }
      ]
    },
    {
      "cell_type": "markdown",
      "source": [
        "**8**. **Menu** **Restoran** **Dengan** **Match**-**Case**\n",
        "\n",
        "Buat program Python yang menampilkan menu makanan berikut:\n",
        "\n",
        "• 1 = Nasi Goreng\n",
        "\n",
        "• 2 = Mie Ayam\n",
        "\n",
        "• 3 = Soto Ayam\n",
        "\n",
        "Jika pengguna memasukkan pilihan di luar 1–3, tampilkan \"Menu tidak tersedia\".\n",
        "Gunakan match-case."
      ],
      "metadata": {
        "id": "zcTGyO9cPVyG"
      }
    },
    {
      "cell_type": "code",
      "source": [
        "print(\"===== MENU RESTORAN BIM =====\")\n",
        "print(\"1. Nasi Goreng\")\n",
        "print(\"2. Mie Ayam\")\n",
        "print(\"3. Soto Ayam\")\n",
        "\n",
        "pilihan = int(input(\"Pilih menu (1-3): \"))\n",
        "\n",
        "match pilihan:\n",
        "    case 1:\n",
        "        print(\"Anda memesan: Nasi Goreng\")\n",
        "    case 2:\n",
        "        print(\"Anda memesan: Mie Ayam\")\n",
        "    case 3:\n",
        "        print(\"Anda memesan: Soto Ayam\")\n",
        "    case _:\n",
        "        print(\"Pilihan tidak valid. Menu tidak tersedia.\")"
      ],
      "metadata": {
        "colab": {
          "base_uri": "https://localhost:8080/"
        },
        "id": "dL5ETwMmPmv2",
        "outputId": "acc0ce7e-9084-4364-a37d-e2de96b7dcc5"
      },
      "execution_count": 16,
      "outputs": [
        {
          "output_type": "stream",
          "name": "stdout",
          "text": [
            "===== MENU RESTORAN BIM =====\n",
            "1. Nasi Goreng\n",
            "2. Mie Ayam\n",
            "3. Soto Ayam\n",
            "Pilih menu (1-3): 5\n",
            "Pilihan tidak valid. Menu tidak tersedia.\n"
          ]
        }
      ]
    },
    {
      "cell_type": "markdown",
      "source": [
        "**9**. **Studi** **Kasus** **Nyata** – **Program** **Penentuan** **Diskon**\n",
        "\n",
        "Buat program Python untuk menghitung diskon belanja dengan aturan:\n",
        "\n",
        "• Jika total belanja ≥ 500.000 → diskon 20%\n",
        "\n",
        "• Jika total belanja ≥ 250.000 → diskon 10%\n",
        "\n",
        "• Jika total belanja < 250.000 → tidak ada diskon\n",
        "\n",
        "Program harus menampilkan struk belanja lengkap: nama barang, jumlah, harga, total,\n",
        "diskon, dan jumlah bayar."
      ],
      "metadata": {
        "id": "5WHuUT4tP2pJ"
      }
    },
    {
      "cell_type": "code",
      "source": [
        "print(\"===== Bims Store =====\")\n",
        "barang = input(\"Masukkan nama barang: \")\n",
        "harga = float(input(\"Masukkan harga satuan barang: \"))\n",
        "jumlah = int(input(\"Masukkan jumlah barang yang dibeli: \"))\n",
        "\n",
        "\n",
        "total_belanja = harga * jumlah\n",
        "\n",
        "\n",
        "if total_belanja >= 500000:\n",
        "    diskon_persen = 0.2  # 20%\n",
        "elif total_belanja >= 250000:\n",
        "    diskon_persen = 0.1  # 10%\n",
        "else:\n",
        "    diskon_persen = 0    # 0%\n",
        "\n",
        "jumlah_diskon = total_belanja * diskon_persen\n",
        "total_bayar = total_belanja - jumlah_diskon\n",
        "\n",
        "# Struk Belanja (Output)\n",
        "print(\"\\n===== Bims Store receipt =====\")\n",
        "print(f\"Nama Barang   : {barang}\")\n",
        "print(f\"Harga Satuan  : Rp {harga:,.0f}\")\n",
        "print(f\"Jumlah Beli   : {jumlah} unit\")\n",
        "print(\"--------------------------------\")\n",
        "print(f\"Total Belanja : Rp {total_belanja:,.0f}\")\n",
        "print(f\"Diskon        : {diskon_persen*100:.0f}% (Rp {jumlah_diskon:,.0f})\")\n",
        "print(\"--------------------------------\")\n",
        "print(f\"Total Bayar   : Rp {total_bayar:,.0f}\")\n",
        "print(\"================================\")\n",
        "print(\"Terima kasih telah berbelanja di Bims Store!\")"
      ],
      "metadata": {
        "colab": {
          "base_uri": "https://localhost:8080/"
        },
        "id": "KnO93qbiQF_J",
        "outputId": "1378540b-5e3c-4cea-d522-c72e511b2ea6"
      },
      "execution_count": 18,
      "outputs": [
        {
          "output_type": "stream",
          "name": "stdout",
          "text": [
            "===== Bims Store =====\n",
            "Masukkan nama barang: Exhaust\n",
            "Masukkan harga satuan barang: 450000\n",
            "Masukkan jumlah barang yang dibeli: 1\n",
            "\n",
            "===== Bims Store receipt =====\n",
            "Nama Barang   : Exhaust\n",
            "Harga Satuan  : Rp 450,000\n",
            "Jumlah Beli   : 1 unit\n",
            "--------------------------------\n",
            "Total Belanja : Rp 450,000\n",
            "Diskon        : 10% (Rp 45,000)\n",
            "--------------------------------\n",
            "Total Bayar   : Rp 405,000\n",
            "================================\n",
            "Terima kasih telah berbelanja di Bims Store!\n"
          ]
        }
      ]
    },
    {
      "cell_type": "code",
      "source": [],
      "metadata": {
        "id": "CSiFpHO8QeR4"
      },
      "execution_count": null,
      "outputs": []
    }
  ]
}