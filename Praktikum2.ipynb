{
  "nbformat": 4,
  "nbformat_minor": 0,
  "metadata": {
    "colab": {
      "provenance": [],
      "authorship_tag": "ABX9TyNIRSs0lszd5AgRqEkQC4Mm",
      "include_colab_link": true
    },
    "kernelspec": {
      "name": "python3",
      "display_name": "Python 3"
    },
    "language_info": {
      "name": "python"
    }
  },
  "cells": [
    {
      "cell_type": "markdown",
      "metadata": {
        "id": "view-in-github",
        "colab_type": "text"
      },
      "source": [
        "<a href=\"https://colab.research.google.com/github/indobims/Praktikum_Algoritma_Polines_2025-Arya-Bima_2/blob/main/Praktikum2.ipynb\" target=\"_parent\"><img src=\"https://colab.research.google.com/assets/colab-badge.svg\" alt=\"Open In Colab\"/></a>"
      ]
    },
    {
      "cell_type": "markdown",
      "source": [
        "**Praktikum 01 – Pengenalan Variabel dan Tipe Data**"
      ],
      "metadata": {
        "id": "KjI8PCGinnBn"
      }
    },
    {
      "cell_type": "code",
      "execution_count": null,
      "metadata": {
        "colab": {
          "base_uri": "https://localhost:8080/"
        },
        "id": "BBqlkuEphD2w",
        "outputId": "4730bbaa-cd14-4c91-99ad-397f85c6c22d"
      },
      "outputs": [
        {
          "output_type": "stream",
          "name": "stdout",
          "text": [
            "Umur: 20 → <class 'int'>\n",
            "Tinggi: 170.5 → <class 'float'>\n",
            "Nama: Andi → <class 'str'>\n",
            "Status Mahasiswa: True → <class 'bool'>\n",
            "Nilai: [80, 85, 90] → <class 'list'>\n",
            "Koordinat: (10, 20) → <class 'tuple'>\n",
            "Data Mahasiswa: {'nama': 'Andi', 'umur': 20, 'prodi': 'TRK'} → <class 'dict'>\n",
            "Hobi: {'membaca', 'olahraga', 'musik'} → <class 'set'>\n"
          ]
        }
      ],
      "source": [
        "# Integer\n",
        "umur = 20\n",
        "print(\"Umur:\", umur, \"→\", type(umur))\n",
        "\n",
        "# Float\n",
        "tinggi = 170.5\n",
        "print(\"Tinggi:\", tinggi, \"→\", type(tinggi))\n",
        "\n",
        "# String\n",
        "nama = \"Andi\"\n",
        "print(\"Nama:\", nama, \"→\", type(nama))\n",
        "\n",
        "# Boolean\n",
        "is_mahasiswa = True\n",
        "print(\"Status Mahasiswa:\", is_mahasiswa, \"→\", type(is_mahasiswa))\n",
        "\n",
        "# List\n",
        "nilai = [80, 85, 90]\n",
        "print(\"Nilai:\", nilai, \"→\", type(nilai))\n",
        "\n",
        "# Tuple\n",
        "koordinat = (10, 20)\n",
        "print(\"Koordinat:\", koordinat, \"→\", type(koordinat))\n",
        "\n",
        "# Dictionary\n",
        "mahasiswa = {\"nama\": \"Andi\", \"umur\": 20, \"prodi\": \"TRK\"}\n",
        "print(\"Data Mahasiswa:\", mahasiswa, \"→\", type(mahasiswa))\n",
        "\n",
        "# Set\n",
        "hobi = {\"membaca\", \"olahraga\", \"musik\"}\n",
        "print(\"Hobi:\", hobi, \"→\", type(hobi))"
      ]
    },
    {
      "cell_type": "markdown",
      "source": [
        "**Praktikum 02 – Input dan Output Dasar**\n",
        "\n"
      ],
      "metadata": {
        "id": "8oCuE2qyn3bQ"
      }
    },
    {
      "cell_type": "code",
      "source": [
        "# Input string\n",
        "nama = input(\"Masukkan nama Anda: \")\n",
        "\n",
        "# Input integer\n",
        "umur = int(input(\"Masukkan umur Anda: \"))\n",
        "\n",
        "# Input float\n",
        "tinggi = float(input(\"Masukkan tinggi badan (cm): \"))\n",
        "\n",
        "# Output standar\n",
        "print(\"Halo,\", nama, \"umur Anda:\", umur, \"tahun, tinggi:\", tinggi, \"cm\")\n",
        "\n",
        "# Output dengan format()\n",
        "print(\"Halo {0}, umur Anda {1} tahun, tinggi {2} cm\".format(nama, umur, tinggi))\n",
        "\n",
        "# Output dengan f-string\n",
        "print(f\"Halo {nama}, umur Anda {umur} tahun, tinggi {tinggi} cm\")"
      ],
      "metadata": {
        "colab": {
          "base_uri": "https://localhost:8080/"
        },
        "id": "4plu9ZJGn5bP",
        "outputId": "cd29be62-fd4d-4598-eb7b-f62bdcfb3a69"
      },
      "execution_count": null,
      "outputs": [
        {
          "output_type": "stream",
          "name": "stdout",
          "text": [
            "Masukkan nama Anda: Arya Bima\n",
            "Masukkan umur Anda: 18\n",
            "Masukkan tinggi badan (cm): 175\n",
            "Halo, Arya Bima umur Anda: 18 tahun, tinggi: 175.0 cm\n",
            "Halo Arya Bima, umur Anda 18 tahun, tinggi 175.0 cm\n",
            "Halo Arya Bima, umur Anda 18 tahun, tinggi 175.0 cm\n"
          ]
        }
      ]
    },
    {
      "cell_type": "markdown",
      "source": [
        "**Praktikum** **03** **–** **Operator** **Aritmatika**"
      ],
      "metadata": {
        "id": "whtukGw8xXas"
      }
    },
    {
      "cell_type": "code",
      "source": [
        "a = 15\n",
        "b = 4\n",
        "\n",
        "print(\"a + b =\", a + b)\n",
        "print(\"a - b =\", a - b)\n",
        "print(\"a * b =\", a * b)\n",
        "print(\"a / b =\", a / b)\n",
        "print(\"a // b =\", a // b)\n",
        "print(\"a % b =\", a % b)\n",
        "print(\"a ** b =\", a ** b)"
      ],
      "metadata": {
        "colab": {
          "base_uri": "https://localhost:8080/"
        },
        "id": "qAVt3PFaxbP6",
        "outputId": "770c6b93-ded0-4ee6-a20a-75cb0bd057f5"
      },
      "execution_count": null,
      "outputs": [
        {
          "output_type": "stream",
          "name": "stdout",
          "text": [
            "a + b = 19\n",
            "a - b = 11\n",
            "a * b = 60\n",
            "a / b = 3.75\n",
            "a // b = 3\n",
            "a % b = 3\n",
            "a ** b = 50625\n"
          ]
        }
      ]
    },
    {
      "cell_type": "markdown",
      "source": [
        "**Praktikum** **04** **–** **Operator** **Relasional**"
      ],
      "metadata": {
        "id": "yjNivqdIxfaN"
      }
    },
    {
      "cell_type": "code",
      "source": [
        "x = 10\n",
        "y = 20\n",
        "\n",
        "print(\"x == y :\", x == y)\n",
        "print(\"x != y :\", x != y)\n",
        "print(\"x < y  :\", x < y)\n",
        "print(\"x > y  :\", x > y)\n",
        "print(\"x <= y :\", x <= y)\n",
        "print(\"x >= y :\", x >= y)"
      ],
      "metadata": {
        "colab": {
          "base_uri": "https://localhost:8080/"
        },
        "id": "gtZcQZ-6xvSH",
        "outputId": "d53229a9-a385-4777-81dc-e296a785a3aa"
      },
      "execution_count": null,
      "outputs": [
        {
          "output_type": "stream",
          "name": "stdout",
          "text": [
            "x == y : False\n",
            "x != y : True\n",
            "x < y  : True\n",
            "x > y  : False\n",
            "x <= y : True\n",
            "x >= y : False\n"
          ]
        }
      ]
    },
    {
      "cell_type": "markdown",
      "source": [
        "**Praktikum** **05** *–* **Operator** **Logika** **dengan** **Studi** **Kasus** **Nyata**"
      ],
      "metadata": {
        "id": "HEBkTfPWxx6g"
      }
    },
    {
      "cell_type": "code",
      "source": [
        "# Operator logika dasar\n",
        "a = True\n",
        "b = False\n",
        "\n",
        "print(\"a and b =\", a and b)\n",
        "print(\"a or b  =\", a or b)\n",
        "print(\"not a   =\", not a)\n",
        "\n",
        "# Studi kasus nyata: kelulusan\n",
        "nilai = int(input(\"Masukkan nilai ujian: \"))\n",
        "hadir = int(input(\"Masukkan jumlah kehadiran: \"))\n",
        "\n",
        "lulus_nilai = nilai >= 60\n",
        "lulus_hadir = hadir >= 12  # dari 16 pertemuan\n",
        "\n",
        "if lulus_nilai and lulus_hadir:\n",
        "    print(\"Status: LULUS\")\n",
        "else:\n",
        "    print(\"Status: TIDAK LULUS\")"
      ],
      "metadata": {
        "colab": {
          "base_uri": "https://localhost:8080/"
        },
        "id": "8-vvml9symag",
        "outputId": "9a766155-7d9a-4763-f5a2-5d6dc8d7c275"
      },
      "execution_count": null,
      "outputs": [
        {
          "output_type": "stream",
          "name": "stdout",
          "text": [
            "a and b = False\n",
            "a or b  = True\n",
            "not a   = False\n",
            "Masukkan nilai ujian: 95\n",
            "Masukkan jumlah kehadiran: 16\n",
            "Status: LULUS\n"
          ]
        }
      ]
    },
    {
      "cell_type": "markdown",
      "source": [
        "\n",
        "**Praktikum** **06** **–** **Program** **Kasir** **Sederhana**\n"
      ],
      "metadata": {
        "id": "vt_2bI30zFYe"
      }
    },
    {
      "cell_type": "code",
      "source": [
        "barang = input(\"Masukkan nama barang: \")\n",
        "harga = float(input(\"Masukkan harga barang: \"))\n",
        "jumlah = int(input(\"Masukkan jumlah barang: \"))\n",
        "\n",
        "total = harga * jumlah\n",
        "\n",
        "# Aturan diskon\n",
        "if total >= 500000:\n",
        "    diskon = 0.2\n",
        "elif total >= 250000:\n",
        "    diskon = 0.1\n",
        "else:\n",
        "    diskon = 0\n",
        "\n",
        "potongan = total * diskon\n",
        "bayar = total - potongan\n",
        "\n",
        "print(\"\\n===== Struk Belanja =====\")\n",
        "print(f\"Barang : {barang}\")\n",
        "print(f\"Jumlah : {jumlah}\")\n",
        "print(f\"Total  : Rp {total}\")\n",
        "print(f\"Diskon : {diskon * 100}%\")\n",
        "print(f\"Bayar  : Rp {bayar}\")"
      ],
      "metadata": {
        "colab": {
          "base_uri": "https://localhost:8080/"
        },
        "id": "AVnlyvtmzO9L",
        "outputId": "c66fde9d-7eff-4d71-fc0f-5d6c2d6360df"
      },
      "execution_count": null,
      "outputs": [
        {
          "output_type": "stream",
          "name": "stdout",
          "text": [
            "Masukkan nama barang: Exhaust System\n",
            "Masukkan harga barang: 500000\n",
            "Masukkan jumlah barang: 2\n",
            "\n",
            "===== Struk Belanja =====\n",
            "Barang : Exhaust System\n",
            "Jumlah : 2\n",
            "Total  : Rp 1000000.0\n",
            "Diskon : 20.0%\n",
            "Bayar  : Rp 800000.0\n"
          ]
        }
      ]
    }
  ]
}